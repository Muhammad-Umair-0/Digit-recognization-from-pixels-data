{
 "cells": [
  {
   "cell_type": "code",
   "execution_count": 2,
   "id": "898fb1cf",
   "metadata": {},
   "outputs": [],
   "source": [
    "import pandas as pd\n",
    "import cv2\n",
    "import os\n",
    "import numpy as np\n",
    "from sklearn.model_selection import train_test_split\n",
    "from tensorflow.keras.models import Sequential\n",
    "from tensorflow.keras.layers import Dense, Conv2D, MaxPooling2D, Flatten, Dropout"
   ]
  },
  {
   "cell_type": "code",
   "execution_count": 3,
   "id": "1ea071db",
   "metadata": {},
   "outputs": [],
   "source": [
    "# read the CSV file\n",
    "df = pd.read_csv(\"D:\\\\SensViz\\\\Machine Learning Task 2\\\\train.csv\")\n",
    "# separate the label column\n",
    "labels = df['label']\n",
    "# separate the pixel data columns and convert them into a numpy array\n",
    "pixels = df.iloc[:, 1:].to_numpy(dtype='uint8')\n",
    "# create the output directory if it does not exist\n",
    "output_dir = \"D:\\SensViz\\Machine Learning Task 2\\images\"\n",
    "if not os.path.exists(output_dir):\n",
    "    os.makedirs(output_dir)\n",
    "# loop over the pixel data and convert each row into an image\n",
    "for i in range(pixels.shape[0]):\n",
    "    pixel_data = pixels[i].reshape(28, 28)\n",
    "    img = cv2.cvtColor(pixel_data, cv2.COLOR_GRAY2BGR)  # convert the grayscale image to BGR\n",
    "    filename = os.path.join(output_dir, f\"{i}.jpg\")\n",
    "    cv2.imwrite(filename, img)"
   ]
  },
  {
   "cell_type": "code",
   "execution_count": 4,
   "id": "699518f1",
   "metadata": {},
   "outputs": [
    {
     "name": "stdout",
     "output_type": "stream",
     "text": [
      "Epoch 1/5\n",
      "1182/1182 [==============================] - 40s 33ms/step - loss: 0.2004 - accuracy: 0.9376 - val_loss: 0.0831 - val_accuracy: 0.9736\n",
      "Epoch 2/5\n",
      "1182/1182 [==============================] - 36s 30ms/step - loss: 0.0825 - accuracy: 0.9745 - val_loss: 0.0654 - val_accuracy: 0.9800\n",
      "Epoch 3/5\n",
      "1182/1182 [==============================] - 41s 34ms/step - loss: 0.0652 - accuracy: 0.9793 - val_loss: 0.0519 - val_accuracy: 0.9845\n",
      "Epoch 4/5\n",
      "1182/1182 [==============================] - 50s 43ms/step - loss: 0.0575 - accuracy: 0.9820 - val_loss: 0.0506 - val_accuracy: 0.9855\n",
      "Epoch 5/5\n",
      "1182/1182 [==============================] - 51s 43ms/step - loss: 0.0478 - accuracy: 0.9849 - val_loss: 0.0498 - val_accuracy: 0.9852\n",
      "132/132 [==============================] - 1s 10ms/step - loss: 0.0498 - accuracy: 0.9852\n",
      "Test accuracy: 0.9852380752563477\n"
     ]
    }
   ],
   "source": [
    "# reshape the pixel data and convert it into float values between 0 and 1\n",
    "pixels = pixels.reshape(-1, 28, 28, 1) / 255.0\n",
    "\n",
    "# split the data into training and testing sets\n",
    "X_train, X_test, y_train, y_test = train_test_split(pixels, labels, test_size=0.1, random_state=42)\n",
    "\n",
    "# build the CNN model\n",
    "model = Sequential()\n",
    "model.add(Conv2D(32, kernel_size=(3, 3), activation='elu', input_shape=(28, 28, 1)))\n",
    "model.add(MaxPooling2D(pool_size=(2, 2)))\n",
    "model.add(Conv2D(64, kernel_size=(3, 3), activation='elu'))\n",
    "model.add(MaxPooling2D(pool_size=(2, 2)))\n",
    "model.add(Flatten())\n",
    "model.add(Dense(128, activation='elu'))\n",
    "model.add(Dropout(0.5))\n",
    "model.add(Dense(10, activation='softmax'))\n",
    "\n",
    "# compile the model\n",
    "model.compile(optimizer='adam', loss='sparse_categorical_crossentropy', metrics=['accuracy'])\n",
    "\n",
    "# train the model\n",
    "model.fit(X_train, y_train, epochs=5, batch_size=32, validation_data=(X_test, y_test))\n",
    "\n",
    "# evaluate the model\n",
    "test_loss, test_acc = model.evaluate(X_test, y_test)\n",
    "print('Test accuracy:', test_acc)"
   ]
  },
  {
   "cell_type": "code",
   "execution_count": 12,
   "id": "32122533",
   "metadata": {},
   "outputs": [
    {
     "name": "stdout",
     "output_type": "stream",
     "text": [
      "875/875 [==============================] - 11s 12ms/step\n"
     ]
    }
   ],
   "source": [
    "test_data = pd.read_csv(\"D:\\\\SensViz\\\\Machine Learning Task 2\\\\test.csv\")\n",
    "test_pixels = test_data.to_numpy(dtype='uint8')\n",
    "test_images = test_pixels.reshape(test_pixels.shape[0], 28, 28, 1) / 255.0\n",
    "\n",
    "predictions = model.predict(test_images)\n",
    "predicted_labels = np.argmax(predictions, axis=1)\n",
    "sample_submission = pd.read_csv(\"D:\\\\SensViz\\\\Machine Learning Task 2\\\\sample_submission.csv\")\n",
    "sample_submission.head()\n",
    "sample_submission['Label']= predicted_labels\n"
   ]
  },
  {
   "cell_type": "code",
   "execution_count": 29,
   "id": "f3155c70",
   "metadata": {},
   "outputs": [
    {
     "data": {
      "text/html": [
       "<div>\n",
       "<style scoped>\n",
       "    .dataframe tbody tr th:only-of-type {\n",
       "        vertical-align: middle;\n",
       "    }\n",
       "\n",
       "    .dataframe tbody tr th {\n",
       "        vertical-align: top;\n",
       "    }\n",
       "\n",
       "    .dataframe thead th {\n",
       "        text-align: right;\n",
       "    }\n",
       "</style>\n",
       "<table border=\"1\" class=\"dataframe\">\n",
       "  <thead>\n",
       "    <tr style=\"text-align: right;\">\n",
       "      <th></th>\n",
       "      <th>ImageId</th>\n",
       "      <th>Label</th>\n",
       "    </tr>\n",
       "  </thead>\n",
       "  <tbody>\n",
       "    <tr>\n",
       "      <th>0</th>\n",
       "      <td>1</td>\n",
       "      <td>2</td>\n",
       "    </tr>\n",
       "    <tr>\n",
       "      <th>1</th>\n",
       "      <td>2</td>\n",
       "      <td>0</td>\n",
       "    </tr>\n",
       "    <tr>\n",
       "      <th>2</th>\n",
       "      <td>3</td>\n",
       "      <td>9</td>\n",
       "    </tr>\n",
       "    <tr>\n",
       "      <th>3</th>\n",
       "      <td>4</td>\n",
       "      <td>9</td>\n",
       "    </tr>\n",
       "    <tr>\n",
       "      <th>4</th>\n",
       "      <td>5</td>\n",
       "      <td>3</td>\n",
       "    </tr>\n",
       "  </tbody>\n",
       "</table>\n",
       "</div>"
      ],
      "text/plain": [
       "   ImageId  Label\n",
       "0        1      2\n",
       "1        2      0\n",
       "2        3      9\n",
       "3        4      9\n",
       "4        5      3"
      ]
     },
     "execution_count": 29,
     "metadata": {},
     "output_type": "execute_result"
    }
   ],
   "source": [
    "sample_submission = pd.read_csv('sample_submission.csv')\n",
    "modified_sample_submission = sample_submission[['ImageId', 'Label']]\n",
    "modified_sample_submission.to_csv('modified_sample_submission.csv', index=False)\n",
    "\n",
    "df = pd.read_csv('modified_sample_submission.csv')\n",
    "df.head()"
   ]
  },
  {
   "cell_type": "code",
   "execution_count": null,
   "id": "d0112071",
   "metadata": {},
   "outputs": [],
   "source": []
  }
 ],
 "metadata": {
  "kernelspec": {
   "display_name": "Python 3 (ipykernel)",
   "language": "python",
   "name": "python3"
  },
  "language_info": {
   "codemirror_mode": {
    "name": "ipython",
    "version": 3
   },
   "file_extension": ".py",
   "mimetype": "text/x-python",
   "name": "python",
   "nbconvert_exporter": "python",
   "pygments_lexer": "ipython3",
   "version": "3.9.13"
  }
 },
 "nbformat": 4,
 "nbformat_minor": 5
}
